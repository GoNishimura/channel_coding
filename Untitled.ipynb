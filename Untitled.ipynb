{
 "cells": [
  {
   "cell_type": "code",
   "execution_count": 642,
   "metadata": {},
   "outputs": [],
   "source": [
    "import math\n",
    "import numpy as np\n",
    "import random"
   ]
  },
  {
   "cell_type": "code",
   "execution_count": 643,
   "metadata": {},
   "outputs": [],
   "source": [
    "np.random.seed(seed=0)\n",
    "random.seed(0)"
   ]
  },
  {
   "cell_type": "code",
   "execution_count": 644,
   "metadata": {},
   "outputs": [],
   "source": [
    "sigma = 1 # for sigma of the normal distibution\n",
    "data_sorted = np.arange(16)\n",
    "data_random = np.array([random.randint(0, 16) for i in range(100)])"
   ]
  },
  {
   "cell_type": "code",
   "execution_count": 645,
   "metadata": {},
   "outputs": [],
   "source": [
    "def toBit(num=0, digits=4):\n",
    "    numInList = list(bin(num)[2:])\n",
    "    numInList = list(map(lambda x: int(x), numInList))\n",
    "    for i in range(digits-len(numInList)):\n",
    "        numInList.insert(0, 0)\n",
    "    return np.array(numInList, dtype=float)"
   ]
  },
  {
   "cell_type": "code",
   "execution_count": 646,
   "metadata": {},
   "outputs": [],
   "source": [
    "def toNum(array):\n",
    "    num = 0\n",
    "    for i in range(len(array)):\n",
    "        num += array[len(array)-i-1] * (2**i)\n",
    "    return int(num)"
   ]
  },
  {
   "cell_type": "code",
   "execution_count": 647,
   "metadata": {},
   "outputs": [],
   "source": [
    "def makeNoise(array):\n",
    "    array += np.random.normal(0, sigma, len(array))\n",
    "    return array"
   ]
  },
  {
   "cell_type": "code",
   "execution_count": 648,
   "metadata": {},
   "outputs": [],
   "source": [
    "def cFlip(array):\n",
    "    return np.array(list(map(lambda x: -1 if x == 1 else 1, array)), dtype=float)"
   ]
  },
  {
   "cell_type": "code",
   "execution_count": 649,
   "metadata": {},
   "outputs": [],
   "source": [
    "# https://www.google.com/search?safe=off&rlz=1C5CHFA_enJP690JP690&sxsrf=ALeKk01q--8LEAw3xqoJeLkiweKJios9-Q%3A1589962510271&ei=DufEXrqLEJSKr7wPhqaVwAE&q=hamming+code+generator+polynomial&oq=hamming+code+generator+polynomi&gs_lcp=CgZwc3ktYWIQARgAMgUIABDLAToECCMQJzoGCCMQJxATOgQIABAeOgYIABAIEB5Q3QVYgzlg00BoAHAAeACAAZkBiAG8EpIBBDAuMjCYAQCgAQGqAQdnd3Mtd2l6&sclient=psy-ab#kpvalbx=_F-fEXtvxIJeXr7wPzvCbmAI29\n",
    "# http://www.ee.unb.ca/cgi-bin/tervo/polygen2.pl?d=4&p=1011&s=1&c=1\n",
    "def toBlock(array):\n",
    "    redund = np.zeros(3, dtype=float)\n",
    "    for i in range(3):\n",
    "        if i == 0:\n",
    "            redund[i] = int(array[0]) ^ int(array[1]) ^ int(array[2])\n",
    "        elif i == 1:\n",
    "            redund[i] = int(array[1]) ^ int(array[2]) ^ int(array[3])\n",
    "        else:\n",
    "            redund[i] = int(array[0]) ^ int(array[1]) ^ int(array[3])\n",
    "    return np.concatenate([array, redund], axis=0)"
   ]
  },
  {
   "cell_type": "code",
   "execution_count": 650,
   "metadata": {},
   "outputs": [],
   "source": [
    "# didn't work...\n",
    "# def toBlock(array):\n",
    "#     redund = np.zeros(3, dtype=float)\n",
    "#     gen_poly = 0b1011\n",
    "#     check = list(array)\n",
    "#     for i in range(4):\n",
    "#         remain = toNum(np.array(check)) ^ gen_poly\n",
    "#         print(bin(remain))\n",
    "#         if len(bin(remain)) == 4+2:\n",
    "#             check = list(int(i) for i in bin(remain)[2:])\n",
    "#         elif len(bin(remain)) == 3+2:\n",
    "#             check = list(int(i) for i in bin(remain)[2:])\n",
    "#             check.append(0)\n",
    "#         else:\n",
    "#             redund = toBit(2**(3-i)*remain, 3)\n",
    "#             break\n",
    "#     return np.concatenate([array, redund], axis=0)"
   ]
  },
  {
   "cell_type": "code",
   "execution_count": 651,
   "metadata": {},
   "outputs": [],
   "source": [
    "def calcLLR(r):\n",
    "    func = lambda x: -2*x/sigma**2\n",
    "    if type(r) == np.ndarray or type(r) == list:\n",
    "        return np.array(list(map(lambda x: func(x), r)), dtype=float)\n",
    "    else:\n",
    "        return func(r)"
   ]
  },
  {
   "cell_type": "code",
   "execution_count": 652,
   "metadata": {},
   "outputs": [],
   "source": [
    "# after llr: x = 0 then c = 1 then r > 0 then llr < 0\n",
    "def binarize(llr=0, toNum=[0, 1]):\n",
    "    func = lambda r: toNum[0] if r < 0 else toNum[1]\n",
    "    if type(llr) == np.ndarray or type(llr) == list:\n",
    "        return np.array(list(map(lambda x: func(x), llr)), dtype=float)\n",
    "    else:\n",
    "        return func(llr)"
   ]
  },
  {
   "cell_type": "code",
   "execution_count": 653,
   "metadata": {},
   "outputs": [],
   "source": [
    "def hardDecision(array):\n",
    "    gen_poly = 0b1011\n",
    "    remain = toNum(array[:4])\n",
    "    redund = array[4:]\n",
    "    true_redund = toBlock(array[:4])[4:]\n",
    "    xor = toNum(redund) ^ toNum(true_redund)\n",
    "\n",
    "    if xor == 1:\n",
    "        redund[2] = 1 if redund[2] == 0 else 0\n",
    "    elif xor == 2:\n",
    "        redund[1] = 1 if redund[1] == 0 else 0\n",
    "    elif xor == 3:\n",
    "        array[3] = 1 if array[3] == 0 else 0\n",
    "    elif xor == 4:\n",
    "        redund[0] = 1 if redund[0] == 0 else 0\n",
    "    elif xor == 5:\n",
    "        array[0] = 1 if array[0] == 0 else 0\n",
    "    elif xor == 6:\n",
    "        array[2] = 1 if array[2] == 0 else 0\n",
    "    elif xor == 7:\n",
    "        array[1] = 1 if array[1] == 0 else 0\n",
    "    return np.concatenate([array[:4], redund], axis=0)"
   ]
  },
  {
   "cell_type": "code",
   "execution_count": 654,
   "metadata": {},
   "outputs": [
    {
     "data": {
      "text/plain": [
       "array([1, 1, 0, 0, 0, 1, 0])"
      ]
     },
     "execution_count": 654,
     "metadata": {},
     "output_type": "execute_result"
    }
   ],
   "source": [
    "# looks great!\n",
    "hardDecision(np.array([1, 1, 0, 1, 0, 1, 0]))"
   ]
  },
  {
   "cell_type": "code",
   "execution_count": 655,
   "metadata": {},
   "outputs": [
    {
     "data": {
      "text/plain": [
       "array([0., 0., 0., 0., 0., 0., 0.])"
      ]
     },
     "execution_count": 655,
     "metadata": {},
     "output_type": "execute_result"
    }
   ],
   "source": [
    "# toBit(0)\n",
    "# toBlock(toBit(0))\n",
    "# cFlip(toBlock(toBit(0)))\n",
    "# makeNoise(cFlip(toBlock(toBit(0))))\n",
    "# calcLLR(makeNoise(cFlip(toBlock(toBit(0)))))\n",
    "binarize(calcLLR(makeNoise(cFlip(toBlock(toBit(0))))))"
   ]
  },
  {
   "cell_type": "markdown",
   "metadata": {},
   "source": [
    "## ready dataset"
   ]
  },
  {
   "cell_type": "code",
   "execution_count": 656,
   "metadata": {},
   "outputs": [],
   "source": [
    "# labels = data_sorted\n",
    "labels = data_random\n",
    "arrays = list(map(lambda x: makeNoise(cFlip(toBlock(toBit(x)))), labels))\n",
    "predicted = np.zeros_like(labels)"
   ]
  },
  {
   "cell_type": "markdown",
   "metadata": {},
   "source": [
    "## commence hard decision!"
   ]
  },
  {
   "cell_type": "code",
   "execution_count": 657,
   "metadata": {},
   "outputs": [
    {
     "name": "stdout",
     "output_type": "stream",
     "text": [
      "precision: 0.74\n"
     ]
    }
   ],
   "source": [
    "for i, array in enumerate(arrays):\n",
    "    predicted[i] = toNum(hardDecision(binarize(calcLLR(array)))[:4])\n",
    "    \n",
    "correct = 0\n",
    "for i in range(len(labels)):\n",
    "    if predicted[i] == labels[i]: \n",
    "        correct += 1\n",
    "        \n",
    "print('precision:', correct/len(labels))"
   ]
  },
  {
   "cell_type": "markdown",
   "metadata": {},
   "source": [
    "## commence soft decision SPC!"
   ]
  },
  {
   "cell_type": "code",
   "execution_count": 658,
   "metadata": {},
   "outputs": [],
   "source": [
    "def expectedLLR(array):\n",
    "    array[4] += 2 / math.tanh( math.tanh(array[0]/2) * math.tanh(array[1]/2) * math.tanh(array[2]/2) )\n",
    "    array[5] += 2 / math.tanh( math.tanh(array[1]/2) * math.tanh(array[2]/2) * math.tanh(array[3]/2) )\n",
    "    array[6] += 2 / math.tanh( math.tanh(array[0]/2) * math.tanh(array[1]/2) * math.tanh(array[3]/2) )\n",
    "    return array"
   ]
  },
  {
   "cell_type": "code",
   "execution_count": 659,
   "metadata": {},
   "outputs": [
    {
     "name": "stdout",
     "output_type": "stream",
     "text": [
      "precision: 0.48\n"
     ]
    }
   ],
   "source": [
    "for i, array in enumerate(arrays):\n",
    "    predicted[i] = toNum(hardDecision(binarize(expectedLLR(calcLLR(array))))[:4])\n",
    "    \n",
    "correct = 0\n",
    "for i in range(len(labels)):\n",
    "    if predicted[i] == labels[i]: \n",
    "        correct += 1\n",
    "    else:\n",
    "        print\n",
    "        \n",
    "print('precision:', correct/len(labels))"
   ]
  },
  {
   "cell_type": "code",
   "execution_count": null,
   "metadata": {},
   "outputs": [],
   "source": []
  },
  {
   "cell_type": "code",
   "execution_count": null,
   "metadata": {},
   "outputs": [],
   "source": []
  }
 ],
 "metadata": {
  "kernelspec": {
   "display_name": "Python 3",
   "language": "python",
   "name": "python3"
  },
  "language_info": {
   "codemirror_mode": {
    "name": "ipython",
    "version": 3
   },
   "file_extension": ".py",
   "mimetype": "text/x-python",
   "name": "python",
   "nbconvert_exporter": "python",
   "pygments_lexer": "ipython3",
   "version": "3.6.10"
  }
 },
 "nbformat": 4,
 "nbformat_minor": 4
}
